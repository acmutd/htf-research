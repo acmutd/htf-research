{
 "cells": [
  {
   "cell_type": "markdown",
   "metadata": {},
   "source": [
    "# Comets of Wall Street\n",
    "In this workshop, you will:\n",
    "- pull in data from Yahoo Finance for a stock that's assigned to you\n",
    "- view and analyze that data using Pandas and Matplotlib\n",
    "- determine if a stock is overvalued based on various metrics\n",
    "- create an infographic showing the the stock's trends and whether you think it's overvalued\n",
    "- create a pull request to make it viewable on the workshop's website"
   ]
  },
  {
   "cell_type": "markdown",
   "metadata": {},
   "source": [
    "## Part I: Pull in Data From Yahoo Finance\n",
    "\n",
    "For this workshop, we'll be using the `yfinance` *library* to retrieve data from Yahoo Finance.\n",
    "\n",
    "A *library* is an easily-reusable unit of code that does something for you. You can read more about libraries on TrackIT!\n",
    "\n",
    "Since the library we need might not be installed on the machine you're running it on, let's install it:"
   ]
  },
  {
   "cell_type": "code",
   "execution_count": null,
   "metadata": {},
   "outputs": [
    {
     "name": "stdout",
     "output_type": "stream",
     "text": [
      "Collecting yfinance\n",
      "  Downloading yfinance-0.1.55.tar.gz (23 kB)\n",
      "Collecting pandas>=0.24\n",
      "  Downloading pandas-1.1.3-cp38-cp38-macosx_10_9_x86_64.whl (10.1 MB)\n",
      "\u001b[K     |███████████████████████████     | 8.5 MB 64 kB/s eta 0:00:250"
     ]
    }
   ],
   "source": [
    "# The exclamation mark signifies that we're running a terminal command\n",
    "# Don't worry about the specifics of this command, just know it installs the yfinance library\n",
    "!pip3 install --upgrade --force-reinstall yfinance"
   ]
  },
  {
   "cell_type": "markdown",
   "metadata": {},
   "source": [
    "Now that we've made sure it's installed, let's pull it into our project:"
   ]
  },
  {
   "cell_type": "code",
   "execution_count": null,
   "metadata": {},
   "outputs": [],
   "source": [
    "import yfinance as yf"
   ]
  },
  {
   "cell_type": "markdown",
   "metadata": {},
   "source": [
    "Awesome. All the methods and properties inside the library are now inside the variable `yf`.\n",
    "\n",
    "To access something inside the library, we use the dot operator. For example, this is a method inside the package: `yf.download`.\n",
    "\n",
    "Now, it's time to download our stock's data using this `yfinance` library. Create a variable called `ticker` below that contains a string of your stock's ticker:"
   ]
  },
  {
   "cell_type": "code",
   "execution_count": null,
   "metadata": {},
   "outputs": [],
   "source": [
    "# replace this line with the variable described above!\n",
    "ticker = '' "
   ]
  },
  {
   "cell_type": "markdown",
   "metadata": {},
   "source": [
    "Let's create a `yf.Ticker` object using the `yf.Ticker(ticker)` method using the variable we just declared:"
   ]
  },
  {
   "cell_type": "code",
   "execution_count": null,
   "metadata": {},
   "outputs": [],
   "source": [
    "# create a yf.Ticker object using the variable you just created above!\n",
    "my_stock = None"
   ]
  },
  {
   "cell_type": "markdown",
   "metadata": {},
   "source": [
    "Let's use that to get some basic info about the stock and store it in a variable called `stock_info`, using the `info` property on our Ticker object created above."
   ]
  },
  {
   "cell_type": "code",
   "execution_count": null,
   "metadata": {},
   "outputs": [],
   "source": [
    "stock_info = my_stock.info\n",
    "stock_info"
   ]
  },
  {
   "cell_type": "markdown",
   "metadata": {},
   "source": [
    "You can see above that there's multiple strings mapped to values with a colon. This is called a `dictionary` in Python. Let's get some (basic) useful stuff from this dictionary!\n",
    "\n",
    "To get values from a dictionary, you just use the name of the dictionary along with a string (called a `key`) of the value you want. For example, to get the `shortRatio` of our stock, we would type in `stock_info['shortRatio']`. Let's try getting the following useful values from our `stock_info` dictionary:\n",
    "\n",
    "- logo_url\n",
    "- sector\n",
    "- industry\n",
    "- shortName\n",
    "- pegRatio\n",
    "- trailingEps\n",
    "- forwardEps\n",
    "- previousClose\n",
    "\n",
    "You can read more about dictionaries on TrackIT!"
   ]
  },
  {
   "cell_type": "code",
   "execution_count": null,
   "metadata": {},
   "outputs": [],
   "source": [
    "logo_url = ''\n",
    "sector = ''\n",
    "industry = ''\n",
    "shortName = ''\n",
    "pegRatio = ''\n",
    "trailingEps = ''\n",
    "forwardEps = ''\n",
    "previousClose = ''"
   ]
  },
  {
   "cell_type": "markdown",
   "metadata": {},
   "source": [
    "Using some of this, let's print a short, human-readable summary about this stock:"
   ]
  },
  {
   "cell_type": "code",
   "execution_count": null,
   "metadata": {},
   "outputs": [],
   "source": [
    "# This uses a feature called string interpolation, which you can read about on TrackIT.\n",
    "f'{shortName} (ticker: {my_stock.ticker}) is a {sector} stock in the {industry} industry. It recently closed at ${previousClose} per share. Some useful metrics to know about this stock are its PEG ratio, which is {pegRatio} and has a trailing and forward EPS of {trailingEps} and {forwardEps}, respectively.'"
   ]
  },
  {
   "cell_type": "markdown",
   "metadata": {},
   "source": [
    "Perfect! Now let's get the price history of this stock for the last year. we'll do this using a new method from the `yfinance` library: `yf.download(ticker_symbol)` with the optional parameter `period`. Let's get data for the year to date (or `'ytd'`):"
   ]
  },
  {
   "cell_type": "code",
   "execution_count": null,
   "metadata": {},
   "outputs": [],
   "source": [
    "price_history = None # fill in the rest here!\n",
    "price_history"
   ]
  },
  {
   "cell_type": "markdown",
   "metadata": {},
   "source": [
    "That's all the data we'll need for our workshop! Now, let's play around with this data using Python."
   ]
  },
  {
   "cell_type": "markdown",
   "metadata": {},
   "source": [
    "## Part II: View and Analyze Data Using Pandas and Matplotlib\n",
    "\n",
    "We're presented with a table of dates, opening prices, daily highs and lows, closing pricces, adjusted closing prices, and trading volume for each day. The type of object this data is stored in is called a Pandas `DataFrame`, which is used a lot within data science and machine learning to work with tabular data (i.e. data that is in a table format). You can access each column similar to how you accessed a specific value in the dictionary by key (but keep in mind a DataFrame is *not* a dictionary). You can read more about DataFrames on TrackIT!\n",
    "\n",
    "<center><img src=\"https://www.cdn.geeksforgeeks.org/wp-content/uploads/creating_dataframe1.png\" width=\"700\" /></center>\n",
    "\n",
    "Let's access the Close price data from the DataFrame:"
   ]
  },
  {
   "cell_type": "code",
   "execution_count": null,
   "metadata": {},
   "outputs": [],
   "source": [
    "# access Close price data from DataFrame!"
   ]
  },
  {
   "cell_type": "markdown",
   "metadata": {},
   "source": [
    "As mentioned earlier, we can easily manipulate and analyze the data within Pandas. Let's get the average closing price of our stock within the past year by calling the `.mean()` method on the column access by name:"
   ]
  },
  {
   "cell_type": "code",
   "execution_count": null,
   "metadata": {},
   "outputs": [],
   "source": [
    "# get the mean close price!"
   ]
  },
  {
   "cell_type": "markdown",
   "metadata": {},
   "source": [
    "We can even use the Python built-in methods like `max()` and `min()` to get the minimum and maximum close price! Just pass in the column as the parameter in these methods:"
   ]
  },
  {
   "cell_type": "code",
   "execution_count": null,
   "metadata": {},
   "outputs": [],
   "source": [
    "# try printing the max and min of the closing price!"
   ]
  },
  {
   "cell_type": "markdown",
   "metadata": {},
   "source": [
    "Learn more about element-wise operations on TrackIT!\n",
    "\n",
    "Just how we can analyze data in-place, we can also create new columns with computed values on-the-fly. Let's create a new column that'll tell us the absolute difference between opening and closing stock prices:"
   ]
  },
  {
   "cell_type": "code",
   "execution_count": null,
   "metadata": {
    "tags": []
   },
   "outputs": [],
   "source": [
    "price_history"
   ]
  },
  {
   "cell_type": "markdown",
   "metadata": {},
   "source": [
    "We can then use this column to find the day when the difference between opening and closing was the highest using the `max()` method learned before and a new method called `loc`:\n",
    "\n",
    "Learn how `.loc` works on TrackIT!"
   ]
  },
  {
   "cell_type": "code",
   "execution_count": null,
   "metadata": {},
   "outputs": [],
   "source": [
    "max_diff = max(price_history['Diff'])\n",
    "# in the square brackets, put the name of the diff column `==` the max_diff above.\n",
    "price_history.loc[]"
   ]
  },
  {
   "cell_type": "markdown",
   "metadata": {},
   "source": [
    "One of the most common visualizations that come to mind when it comes to any traded equities is a graph of its price over time. A library called Matplotlib makes it really easy to create good-looking graphs that show off your data.\n",
    "\n",
    "Let's pull in matplotlib:"
   ]
  },
  {
   "cell_type": "code",
   "execution_count": null,
   "metadata": {},
   "outputs": [],
   "source": [
    "# Install matplotlib\n",
    "!pip3 install --upgrade matplotlib\n",
    "# Import matplotlib\n",
    "import matplotlib.pyplot as plt"
   ]
  },
  {
   "cell_type": "markdown",
   "metadata": {},
   "source": [
    "Let's use the `plt.plot` method to graph the date on the x-axis and the closing price on the y-axis. Let's also graph the absolute difference between the opening and closing values:"
   ]
  },
  {
   "cell_type": "code",
   "execution_count": null,
   "metadata": {},
   "outputs": [],
   "source": [
    "# Make our graphs wide enough to display all data\n",
    "plt.figure(figsize=(12,8))\n",
    "# Plot graph using plt.plot(x, y). Try it!"
   ]
  },
  {
   "cell_type": "markdown",
   "metadata": {},
   "source": [
    "Let's take a closer look at recent performance of our stock, for the past 14 days.\n",
    "\n",
    "In order to do that, we first need to get the last 14 entries from our `price_history` DataFrame, clear the matplotlib figure using `.clf()`, and then plot it again."
   ]
  },
  {
   "cell_type": "code",
   "execution_count": null,
   "metadata": {},
   "outputs": [],
   "source": [
    "# Get the last 7 using DataFrame slicing!\n",
    "last_week = price_history[-14:]\n",
    "# Clear the figure\n",
    "plt.clf()\n",
    "# Make our graphs wide enough to display all data\n",
    "plt.figure(figsize=(12,8))\n",
    "# Plot it again\n",
    "plt.plot(last_week.index, last_week['Close'])"
   ]
  },
  {
   "cell_type": "markdown",
   "metadata": {},
   "source": [
    "What kinds of determinations can you make based on the historical price of the stock and the recent performance of the stock? Write 1-2 lines or less of observations down in the string below."
   ]
  },
  {
   "cell_type": "code",
   "execution_count": null,
   "metadata": {},
   "outputs": [],
   "source": [
    "# Fill in the blank string!\n",
    "price_analysis = ''"
   ]
  },
  {
   "cell_type": "markdown",
   "metadata": {},
   "source": [
    "Now that we've done some basic data analysis, let's use some metrics that we got from Yahoo Finance to determine if the stock is overvalued!"
   ]
  },
  {
   "cell_type": "markdown",
   "metadata": {},
   "source": [
    "## Part III: Determining If A Stock Is Overvalued\n",
    "\n",
    "This is a section filled with a bit of jargon. Don't worry, we'll try to go over it at a high level.\n",
    "\n",
    "Investors use key metrics to determine if a stock is worth investing in, such as **PEG Ratio**, **EPS**, and general industry/stock trends (among other things). One thing to keep in mind that none of this is an exact science, and even the best hedge funds can only offer a 7-9% return on investment.\n",
    "\n",
    "\n",
    "### PEG Ratios\n",
    "The **PEG ratio**, which is short for Price over Earnings-to-Growth ratio, is a ratio of how much a stock is priced compared how much a company makes (adjusted for growth). A low PEG ratio will tell you that the stock is trading lower than how much the company makes, and a really high PEG ratio tells you that the stock is trading much higher than what the company makes.\n",
    "\n",
    "A stock with a high PEG ratio could suggest that the stock is being held up by hype or market speculation on their long-term future growth. A low PEG ratio could tell you that a stock may be underrated (however, in a real scenario, it's a good idea to do more research, since there may be a major reason why the stock is trading so low).\n",
    "\n",
    "See TrackIT for more resources on the PEG ratio!\n",
    "\n",
    "Let's view the PEG ratio of our stock:\n"
   ]
  },
  {
   "cell_type": "code",
   "execution_count": null,
   "metadata": {},
   "outputs": [],
   "source": [
    "# print pegRatio!"
   ]
  },
  {
   "cell_type": "markdown",
   "metadata": {},
   "source": [
    "A negative PEG ratio may mean the growth of the company is negative. While not an explicit warning to stay away from the stock, keep in mind low company growth leads to stock price drops long-term.\n",
    "\n",
    "When considering PEG ratios, also consider the sector the stock is in. Tech is a high-growth sector, while oil and gas isn't really the definition of growth.\n",
    "\n",
    "### EPS Ratio\n",
    "\n",
    "The **EPS**, or the Earnings Per Share, tells you the amount of money a company made per stock it has issued. As indicated by Investopedia:\n",
    "\n",
    "> A higher EPS indicates greater value because investors will pay more for a company's shares if they think the company has higher profits relative to its share price.\n",
    "\n",
    "For more resources on the EPS ratio, see TrackIT!\n",
    "\n",
    "With the data from Yahoo Finance, we've gotten two EPS values, a *trailing* EPS and a *forward* EPS. The trailing EPS is based on historical earnings, while the forward EPS is based on earnings forecasts.\n",
    "\n",
    "Let's print both EPS values:"
   ]
  },
  {
   "cell_type": "code",
   "execution_count": null,
   "metadata": {},
   "outputs": [],
   "source": [
    "# print both trailingEps and forwardEps!"
   ]
  },
  {
   "cell_type": "markdown",
   "metadata": {},
   "source": [
    "Now, using those two metrics, it's time to make a determination on whether or not you think the stock's overvalued!\n",
    "\n",
    "Keep in mind that this is largely opinion-based but still backed by metrics. Many analysts disagree on whether a stock is currently overvalued or not, so it's totally fine if you get it wrong. After all, you're just getting started with stock analysis!\n",
    "\n",
    "Here's some factors to consider:\n",
    "- Is the PEG high or low? And is the EPS or the industry it's in high-growth enough to support that PEG?\n",
    "- How has the stock been doing recently (look at the graph you made above)? Has there been any growth in either direction to support the PEG?\n",
    "- How's the industry the stock is in doing in general? For example, biotech is on fire right now given how rapid vaccine development is occurring."
   ]
  },
  {
   "cell_type": "code",
   "execution_count": null,
   "metadata": {},
   "outputs": [],
   "source": [
    "# change this to True or False based on your determination!\n",
    "overvalued = True\n",
    "# enter your discord tag here!\n",
    "discord_tag = ''"
   ]
  },
  {
   "cell_type": "code",
   "execution_count": null,
   "metadata": {},
   "outputs": [],
   "source": [
    "# Run this cell to generate an infographic. See TrackIT to learn how it works!\n",
    "# DO NOT MODIFY\n",
    "# Supplementary code to generate infographic\n",
    "import urllib.request\n",
    "import matplotlib.image as mpimg\n",
    "\n",
    "# save_graph method\n",
    "\"\"\"\n",
    "save_graph()\n",
    "- Generates an infographic.\n",
    "\"\"\"\n",
    "def save_graph(ticker, price_history, logo_url, short_name, industry, discord_tag, overvalued, peg_ratio):\n",
    "    ov_txt = 'overvalued' if overvalued else 'undervalued'\n",
    "    # avoid axis overlap\n",
    "    fig = plt.figure(figsize=(10,12), dpi=300, constrained_layout=True)\n",
    "    # Use GridSpec for customising layout\n",
    "    gs = fig.add_gridspec(nrows=6, ncols=4)\n",
    "    # Logo image\n",
    "    logo_image = fig.add_subplot(gs[0, 0])\n",
    "    logo_image.axis('off')\n",
    "    urllib.request.urlretrieve(logo_url, 'logo.png')\n",
    "    stock_image = plt.imread('logo.png')\n",
    "    logo_image.imshow(stock_image)\n",
    "    # Text\n",
    "    text = fig.add_subplot(gs[0, 1:])\n",
    "    text.axis('off')\n",
    "    text.text(0, 0.7, short_name, horizontalalignment='left', verticalalignment='center', fontsize=30, fontweight='bold')\n",
    "    text.text(0, 0.4, f'Ticker: {ticker}', horizontalalignment='left', verticalalignment='center', fontsize=20)\n",
    "    text.text(0, 0.0, f'{industry}', horizontalalignment='left', verticalalignment='bottom', fontsize=20, fontstyle='italic')\n",
    "    # Overvalued?\n",
    "    ov = fig.add_subplot(gs[1, :])\n",
    "    ov.axis('off')\n",
    "    ov.text(0.5, 0.85, f'{discord_tag}', horizontalalignment='center', verticalalignment='center', fontsize=30, fontweight='bold')\n",
    "    ov.text(0.5, 0.65, f'determined this stock was', horizontalalignment='center', verticalalignment='top', fontsize=20)\n",
    "    ov.text(0.5, 0.00, f'{ov_txt}', horizontalalignment='center', verticalalignment='bottom', fontsize=40, fontweight='bold', color='darkred')\n",
    "    # Graph\n",
    "    stock_graph = fig.add_subplot(gs[2:5, :])\n",
    "    stock_graph.set_title('YTD Stock Price')\n",
    "    stock_graph.plot(price_history.index, price_history['Close'], linewidth=3)\n",
    "    # PEG ratio\n",
    "    peg = fig.add_subplot(gs[5, :])\n",
    "    peg.axis('off')\n",
    "    peg.text(0.5, 0.5, f'PEG Ratio: {peg_ratio}', horizontalalignment='center', verticalalignment='center', fontsize=30, fontstyle='italic', fontweight='bold')\n",
    "    plt.savefig(f'{ticker}.png', facecolor='white', transparent=True, bbox_inches='tight')\n",
    "\n",
    "save_graph(ticker, price_history, logo_url, shortName, industry, discord_tag, overvalued, pegRatio)"
   ]
  }
 ],
 "metadata": {
  "kernelspec": {
   "display_name": "Python 3",
   "language": "python",
   "name": "python3"
  },
  "language_info": {
   "codemirror_mode": {
    "name": "ipython",
    "version": 3
   },
   "file_extension": ".py",
   "mimetype": "text/x-python",
   "name": "python",
   "nbconvert_exporter": "python",
   "pygments_lexer": "ipython3",
   "version": "3.7.4"
  }
 },
 "nbformat": 4,
 "nbformat_minor": 2
}
